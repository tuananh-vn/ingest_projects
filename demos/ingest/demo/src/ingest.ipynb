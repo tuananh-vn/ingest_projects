{
 "cells": [
  {
   "cell_type": "code",
   "execution_count": 1,
   "metadata": {},
   "outputs": [],
   "source": [
    "import datalabframework as dlf"
   ]
  },
  {
   "cell_type": "code",
   "execution_count": 2,
   "metadata": {},
   "outputs": [
    {
     "data": {
      "text/plain": [
       "(0, 5, 10)"
      ]
     },
     "execution_count": 2,
     "metadata": {},
     "output_type": "execute_result"
    }
   ],
   "source": [
    "dlf.version_info"
   ]
  },
  {
   "cell_type": "code",
   "execution_count": 3,
   "metadata": {},
   "outputs": [
    {
     "name": "stdout",
     "output_type": "stream",
     "text": [
      "PYSPARK_SUBMIT_ARGS:  --packages mysql:mysql-connector-java:8.0.12 pyspark-shell\n"
     ]
    }
   ],
   "source": [
    "engine = dlf.engines.get('spark')\n",
    "spark = engine.context()"
   ]
  },
  {
   "cell_type": "code",
   "execution_count": 4,
   "metadata": {},
   "outputs": [
    {
     "name": "stdout",
     "output_type": "stream",
     "text": [
      "actor\n",
      "2018-10-18 05:15:50,887 - INFO - ffc0af7 - datalabframework-demos.git - jovyan - ingest.ipynb - engine.read - {'format': 'rdbms', 'service': 'mysql', 'path': 'actor', 'url': 'jdbc:mysql://mysql:3306/sakila'}\n",
      "+--------+----------+---------+-------------------+\n",
      "|actor_id|first_name|last_name|        last_update|\n",
      "+--------+----------+---------+-------------------+\n",
      "|     105|    SIDNEY|    CROWE|2006-02-15 04:34:33|\n",
      "|     172|   GROUCHO| WILLIAMS|2006-02-15 04:34:33|\n",
      "|      74|     MILLA|   KEITEL|2006-02-15 04:34:33|\n",
      "|      48|   FRANCES|DAY-LEWIS|2006-02-15 04:34:33|\n",
      "|      65|    ANGELA|   HUDSON|2006-02-15 04:34:33|\n",
      "+--------+----------+---------+-------------------+\n",
      "only showing top 5 rows\n",
      "\n",
      "address\n",
      "2018-10-18 05:15:53,018 - INFO - ffc0af7 - datalabframework-demos.git - jovyan - ingest.ipynb - engine.read - {'format': 'rdbms', 'service': 'mysql', 'path': 'address', 'url': 'jdbc:mysql://mysql:3306/sakila'}\n",
      "+----------+--------------------+--------+---------+-------+-----------+------------+--------------------+-------------------+\n",
      "|address_id|             address|address2| district|city_id|postal_code|       phone|            location|        last_update|\n",
      "+----------+--------------------+--------+---------+-------+-----------+------------+--------------------+-------------------+\n",
      "|       185|682 Garden Grove ...|        |Tennessee|    333|      67497| 72136330362|[00 00 00 00 01 0...|2014-09-25 22:33:57|\n",
      "|       192|1166 Changhwa Street|        |   Caraga|     62|      58852|650752094490|[00 00 00 00 01 0...|2014-09-25 22:32:34|\n",
      "|       288|  226 Halifax Street|        | Xinxiang|    277|      58492|790651020929|[00 00 00 00 01 0...|2014-09-25 22:30:38|\n",
      "|       471|  1322 Mosul Parkway|        | Shandong|    145|      95400|268053970382|[00 00 00 00 01 0...|2014-09-25 22:30:32|\n",
      "|       252| 1309 Weifang Street|        |  Florida|    520|      57338|435785045362|[00 00 00 00 01 0...|2014-09-25 22:34:02|\n",
      "+----------+--------------------+--------+---------+-------+-----------+------------+--------------------+-------------------+\n",
      "only showing top 5 rows\n",
      "\n",
      "category\n",
      "2018-10-18 05:15:54,870 - INFO - ffc0af7 - datalabframework-demos.git - jovyan - ingest.ipynb - engine.read - {'format': 'rdbms', 'service': 'mysql', 'path': 'category', 'url': 'jdbc:mysql://mysql:3306/sakila'}\n",
      "+-----------+-----------+-------------------+\n",
      "|category_id|       name|        last_update|\n",
      "+-----------+-----------+-------------------+\n",
      "|          5|     Comedy|2006-02-15 04:46:27|\n",
      "|         16|     Travel|2006-02-15 04:46:27|\n",
      "|          1|     Action|2006-02-15 04:46:27|\n",
      "|          6|Documentary|2006-02-15 04:46:27|\n",
      "|         14|     Sci-Fi|2006-02-15 04:46:27|\n",
      "+-----------+-----------+-------------------+\n",
      "only showing top 5 rows\n",
      "\n",
      "city\n",
      "2018-10-18 05:15:55,396 - INFO - ffc0af7 - datalabframework-demos.git - jovyan - ingest.ipynb - engine.read - {'format': 'rdbms', 'service': 'mysql', 'path': 'city', 'url': 'jdbc:mysql://mysql:3306/sakila'}\n",
      "+-------+--------------+----------+-------------------+\n",
      "|city_id|          city|country_id|        last_update|\n",
      "+-------+--------------+----------+-------------------+\n",
      "|    144|Dhule (Dhulia)|        44|2006-02-15 04:45:25|\n",
      "|    442|   Saint-Denis|        79|2006-02-15 04:45:25|\n",
      "|    179|      Gatineau|        20|2006-02-15 04:45:25|\n",
      "|    560|         Vaduz|        55|2006-02-15 04:45:25|\n",
      "|    189|        Guaruj|        15|2006-02-15 04:45:25|\n",
      "+-------+--------------+----------+-------------------+\n",
      "only showing top 5 rows\n",
      "\n",
      "country\n",
      "2018-10-18 05:15:55,920 - INFO - ffc0af7 - datalabframework-demos.git - jovyan - ingest.ipynb - engine.read - {'format': 'rdbms', 'service': 'mysql', 'path': 'country', 'url': 'jdbc:mysql://mysql:3306/sakila'}\n",
      "+----------+--------------------+-------------------+\n",
      "|country_id|             country|        last_update|\n",
      "+----------+--------------------+-------------------+\n",
      "|        25|Congo, The Democr...|2006-02-15 04:44:00|\n",
      "|        98|        Turkmenistan|2006-02-15 04:44:00|\n",
      "|        34|              France|2006-02-15 04:44:00|\n",
      "|        37|              Gambia|2006-02-15 04:44:00|\n",
      "|        93|            Tanzania|2006-02-15 04:44:00|\n",
      "+----------+--------------------+-------------------+\n",
      "only showing top 5 rows\n",
      "\n",
      "customer\n",
      "2018-10-18 05:15:56,392 - INFO - ffc0af7 - datalabframework-demos.git - jovyan - ingest.ipynb - engine.read - {'format': 'rdbms', 'service': 'mysql', 'path': 'customer', 'url': 'jdbc:mysql://mysql:3306/sakila'}\n",
      "+-----------+--------+----------+---------+--------------------+----------+------+-------------------+-------------------+\n",
      "|customer_id|store_id|first_name|last_name|               email|address_id|active|        create_date|        last_update|\n",
      "+-----------+--------+----------+---------+--------------------+----------+------+-------------------+-------------------+\n",
      "|        589|       1|     TRACY| HERRMANN|TRACY.HERRMANN@sa...|       595|  true|2006-02-14 22:04:37|2006-02-15 04:57:20|\n",
      "|        437|       2|   RANDALL|  NEUMANN|RANDALL.NEUMANN@s...|       442|  true|2006-02-14 22:04:37|2006-02-15 04:57:20|\n",
      "|        535|       1|    JAVIER|    ELROD|JAVIER.ELROD@saki...|       541|  true|2006-02-14 22:04:37|2006-02-15 04:57:20|\n",
      "|        595|       1|  TERRENCE|GUNDERSON|TERRENCE.GUNDERSO...|       601|  true|2006-02-14 22:04:37|2006-02-15 04:57:20|\n",
      "|        552|       2|      HUGH|  WALDROP|HUGH.WALDROP@saki...|       558|  true|2006-02-14 22:04:37|2006-02-15 04:57:20|\n",
      "+-----------+--------+----------+---------+--------------------+----------+------+-------------------+-------------------+\n",
      "only showing top 5 rows\n",
      "\n",
      "film\n",
      "2018-10-18 05:15:56,950 - INFO - ffc0af7 - datalabframework-demos.git - jovyan - ingest.ipynb - engine.read - {'format': 'rdbms', 'service': 'mysql', 'path': 'film', 'url': 'jdbc:mysql://mysql:3306/sakila'}\n",
      "+-------+-------------------+--------------------+------------+-----------+--------------------+---------------+-----------+------+----------------+------+--------------------+-------------------+\n",
      "|film_id|              title|         description|release_year|language_id|original_language_id|rental_duration|rental_rate|length|replacement_cost|rating|    special_features|        last_update|\n",
      "+-------+-------------------+--------------------+------------+-----------+--------------------+---------------+-----------+------+----------------+------+--------------------+-------------------+\n",
      "|    343|    FULL FLATLINERS|A Beautiful Docum...|  2006-01-01|          1|                null|              6|       2.99|    94|           14.99|    PG|Trailers,Deleted ...|2006-02-15 05:03:42|\n",
      "|    575|MIDSUMMER GROUNDHOG|A Fateful Panoram...|  2006-01-01|          1|                null|              3|       4.99|    48|           27.99|     G|Trailers,Deleted ...|2006-02-15 05:03:42|\n",
      "|    199|   CUPBOARD SINNERS|A Emotional Refle...|  2006-01-01|          1|                null|              4|       2.99|    56|           29.99|     R|   Behind the Scenes|2006-02-15 05:03:42|\n",
      "|    440|        HUNGER ROOF|A Unbelieveable Y...|  2006-01-01|          1|                null|              6|       0.99|   105|           21.99|     G|Deleted Scenes,Be...|2006-02-15 05:03:42|\n",
      "|    128|      CATCH AMISTAD|A Boring Reflecti...|  2006-01-01|          1|                null|              7|       0.99|   183|           10.99|     G|Trailers,Behind t...|2006-02-15 05:03:42|\n",
      "+-------+-------------------+--------------------+------------+-----------+--------------------+---------------+-----------+------+----------------+------+--------------------+-------------------+\n",
      "only showing top 5 rows\n",
      "\n",
      "film_actor\n",
      "2018-10-18 05:15:57,526 - INFO - ffc0af7 - datalabframework-demos.git - jovyan - ingest.ipynb - engine.read - {'format': 'rdbms', 'service': 'mysql', 'path': 'film_actor', 'url': 'jdbc:mysql://mysql:3306/sakila'}\n",
      "+--------+-------+-------------------+\n",
      "|actor_id|film_id|        last_update|\n",
      "+--------+-------+-------------------+\n",
      "|     198|    570|2006-02-15 05:05:03|\n",
      "|      39|    683|2006-02-15 05:05:03|\n",
      "|     174|    618|2006-02-15 05:05:03|\n",
      "|      80|    362|2006-02-15 05:05:03|\n",
      "|     172|    710|2006-02-15 05:05:03|\n",
      "+--------+-------+-------------------+\n",
      "only showing top 5 rows\n",
      "\n",
      "film_category\n",
      "2018-10-18 05:15:58,035 - INFO - ffc0af7 - datalabframework-demos.git - jovyan - ingest.ipynb - engine.read - {'format': 'rdbms', 'service': 'mysql', 'path': 'film_category', 'url': 'jdbc:mysql://mysql:3306/sakila'}\n",
      "+-------+-----------+-------------------+\n",
      "|film_id|category_id|        last_update|\n",
      "+-------+-----------+-------------------+\n",
      "|    978|          5|2006-02-15 05:07:09|\n",
      "|    938|          5|2006-02-15 05:07:09|\n",
      "|    671|         15|2006-02-15 05:07:09|\n",
      "|     22|         13|2006-02-15 05:07:09|\n",
      "|    206|          6|2006-02-15 05:07:09|\n",
      "+-------+-----------+-------------------+\n",
      "only showing top 5 rows\n",
      "\n",
      "film_text\n",
      "2018-10-18 05:15:58,420 - INFO - ffc0af7 - datalabframework-demos.git - jovyan - ingest.ipynb - engine.read - {'format': 'rdbms', 'service': 'mysql', 'path': 'film_text', 'url': 'jdbc:mysql://mysql:3306/sakila'}\n",
      "+-------+-----------------+--------------------+\n",
      "|film_id|            title|         description|\n",
      "+-------+-----------------+--------------------+\n",
      "|    718|    REBEL AIRPORT|A Intrepid Yarn o...|\n",
      "|    772|       SEA VIRGIN|A Fast-Paced Docu...|\n",
      "|    592|MONSTER SPARTACUS|A Fast-Paced Stor...|\n",
      "|    784|  SHANGHAI TYCOON|A Fast-Paced Char...|\n",
      "|    435|  HOTEL HAPPINESS|A Thrilling Yarn ...|\n",
      "+-------+-----------------+--------------------+\n",
      "only showing top 5 rows\n",
      "\n",
      "inventory\n",
      "2018-10-18 05:15:58,839 - INFO - ffc0af7 - datalabframework-demos.git - jovyan - ingest.ipynb - engine.read - {'format': 'rdbms', 'service': 'mysql', 'path': 'inventory', 'url': 'jdbc:mysql://mysql:3306/sakila'}\n",
      "+------------+-------+--------+-------------------+\n",
      "|inventory_id|film_id|store_id|        last_update|\n",
      "+------------+-------+--------+-------------------+\n",
      "|         709|    155|       1|2006-02-15 05:09:17|\n",
      "|        4225|    918|       2|2006-02-15 05:09:17|\n",
      "|        1496|    327|       2|2006-02-15 05:09:17|\n",
      "|        3325|    731|       2|2006-02-15 05:09:17|\n",
      "|         470|    103|       2|2006-02-15 05:09:17|\n",
      "+------------+-------+--------+-------------------+\n",
      "only showing top 5 rows\n",
      "\n",
      "language\n",
      "2018-10-18 05:15:59,277 - INFO - ffc0af7 - datalabframework-demos.git - jovyan - ingest.ipynb - engine.read - {'format': 'rdbms', 'service': 'mysql', 'path': 'language', 'url': 'jdbc:mysql://mysql:3306/sakila'}\n",
      "+-----------+--------+-------------------+\n",
      "|language_id|    name|        last_update|\n",
      "+-----------+--------+-------------------+\n",
      "|          1| English|2006-02-15 05:02:19|\n",
      "|          2| Italian|2006-02-15 05:02:19|\n",
      "|          4|Mandarin|2006-02-15 05:02:19|\n",
      "|          3|Japanese|2006-02-15 05:02:19|\n",
      "|          5|  French|2006-02-15 05:02:19|\n",
      "+-----------+--------+-------------------+\n",
      "only showing top 5 rows\n",
      "\n",
      "payment\n",
      "2018-10-18 05:15:59,677 - INFO - ffc0af7 - datalabframework-demos.git - jovyan - ingest.ipynb - engine.read - {'format': 'rdbms', 'service': 'mysql', 'path': 'payment', 'url': 'jdbc:mysql://mysql:3306/sakila'}\n",
      "+----------+-----------+--------+---------+------+-------------------+-------------------+\n",
      "|payment_id|customer_id|staff_id|rental_id|amount|       payment_date|        last_update|\n",
      "+----------+-----------+--------+---------+------+-------------------+-------------------+\n",
      "|      6741|        250|       1|     1146|  2.99|2005-05-31 20:34:45|2006-02-15 22:14:49|\n",
      "|       433|         16|       2|     7552|  2.99|2005-07-27 22:03:41|2006-02-15 22:12:32|\n",
      "|      1820|         66|       2|    14429|  0.99|2005-08-21 11:29:43|2006-02-15 22:12:46|\n",
      "|      8225|        303|       1|     6205|  4.99|2005-07-11 12:31:24|2006-02-15 22:15:45|\n",
      "|     11120|        410|       2|    15392|  3.99|2005-08-22 23:02:15|2006-02-15 22:18:07|\n",
      "+----------+-----------+--------+---------+------+-------------------+-------------------+\n",
      "only showing top 5 rows\n",
      "\n",
      "rental\n",
      "2018-10-18 05:16:00,589 - INFO - ffc0af7 - datalabframework-demos.git - jovyan - ingest.ipynb - engine.read - {'format': 'rdbms', 'service': 'mysql', 'path': 'rental', 'url': 'jdbc:mysql://mysql:3306/sakila'}\n",
      "+---------+-------------------+------------+-----------+-------------------+--------+-------------------+\n",
      "|rental_id|        rental_date|inventory_id|customer_id|        return_date|staff_id|        last_update|\n",
      "+---------+-------------------+------------+-----------+-------------------+--------+-------------------+\n",
      "|    11971|2005-08-17 17:53:42|        2756|        131|2005-08-18 12:11:42|       2|2006-02-15 21:30:53|\n",
      "|    13571|2005-08-20 05:05:14|        1251|        458|2005-08-25 03:59:14|       2|2006-02-15 21:30:53|\n",
      "|     2601|2005-06-19 06:09:44|        2898|         98|2005-06-20 08:03:44|       1|2006-02-15 21:30:53|\n",
      "|     9904|2005-07-31 14:34:17|        4089|        428|2005-08-08 17:19:17|       1|2006-02-15 21:30:53|\n",
      "|     9991|2005-07-31 17:26:27|        3662|        414|2005-08-03 17:36:27|       1|2006-02-15 21:30:53|\n",
      "+---------+-------------------+------------+-----------+-------------------+--------+-------------------+\n",
      "only showing top 5 rows\n",
      "\n",
      "staff\n",
      "2018-10-18 05:16:01,147 - INFO - ffc0af7 - datalabframework-demos.git - jovyan - ingest.ipynb - engine.read - {'format': 'rdbms', 'service': 'mysql', 'path': 'staff', 'url': 'jdbc:mysql://mysql:3306/sakila'}\n",
      "+--------+----------+---------+----------+--------------------+--------------------+--------+------+--------+--------------------+-------------------+\n",
      "|staff_id|first_name|last_name|address_id|             picture|               email|store_id|active|username|            password|        last_update|\n",
      "+--------+----------+---------+----------+--------------------+--------------------+--------+------+--------+--------------------+-------------------+\n",
      "|       2|       Jon| Stephens|         4|                null|Jon.Stephens@saki...|       2|  true|     Jon|                null|2006-02-15 03:57:16|\n",
      "|       1|      Mike|  Hillyer|         3|[89 50 4E 47 0D 0...|Mike.Hillyer@saki...|       1|  true|    Mike|8cb2237d0679ca88d...|2006-02-15 03:57:16|\n",
      "+--------+----------+---------+----------+--------------------+--------------------+--------+------+--------+--------------------+-------------------+\n",
      "\n",
      "store\n",
      "2018-10-18 05:16:01,706 - INFO - ffc0af7 - datalabframework-demos.git - jovyan - ingest.ipynb - engine.read - {'format': 'rdbms', 'service': 'mysql', 'path': 'store', 'url': 'jdbc:mysql://mysql:3306/sakila'}\n",
      "+--------+----------------+----------+-------------------+\n",
      "|store_id|manager_staff_id|address_id|        last_update|\n",
      "+--------+----------------+----------+-------------------+\n",
      "|       2|               2|         2|2006-02-15 04:57:12|\n",
      "|       1|               1|         1|2006-02-15 04:57:12|\n",
      "+--------+----------------+----------+-------------------+\n",
      "\n"
     ]
    }
   ],
   "source": [
    "md = dlf.params.metadata()\n",
    "for resource in md['resources']:\n",
    "    ds = md['resources'][resource]\n",
    "    if ds['provider']=='source':\n",
    "        print(ds['path'])\n",
    "        # read\n",
    "        engine.read(resource).show(5)"
   ]
  },
  {
   "cell_type": "code",
   "execution_count": 9,
   "metadata": {},
   "outputs": [
    {
     "name": "stdout",
     "output_type": "stream",
     "text": [
      "actor\n",
      "2018-10-18 05:18:00,782 - INFO - ffc0af7 - datalabframework-demos.git - jovyan - ingest.ipynb - engine.read - {'format': 'rdbms', 'service': 'mysql', 'path': 'actor', 'url': 'jdbc:mysql://mysql:3306/sakila'}\n",
      "source.actor\n",
      "2018-10-18 05:18:02,981 - INFO - ffc0af7 - datalabframework-demos.git - jovyan - ingest.ipynb - engine.write - {'format': 'parquet', 'service': 'hdfs', 'path': 'source.actor', 'url': 'hdfs://hdfs-nn:8020/data/ingest/source.actor'}\n",
      "address\n",
      "2018-10-18 05:18:03,175 - INFO - ffc0af7 - datalabframework-demos.git - jovyan - ingest.ipynb - engine.read - {'format': 'rdbms', 'service': 'mysql', 'path': 'address', 'url': 'jdbc:mysql://mysql:3306/sakila'}\n",
      "source.address\n",
      "2018-10-18 05:18:04,476 - INFO - ffc0af7 - datalabframework-demos.git - jovyan - ingest.ipynb - engine.write - {'format': 'parquet', 'service': 'hdfs', 'path': 'source.address', 'url': 'hdfs://hdfs-nn:8020/data/ingest/source.address'}\n",
      "category\n",
      "2018-10-18 05:18:04,661 - INFO - ffc0af7 - datalabframework-demos.git - jovyan - ingest.ipynb - engine.read - {'format': 'rdbms', 'service': 'mysql', 'path': 'category', 'url': 'jdbc:mysql://mysql:3306/sakila'}\n",
      "source.category\n",
      "2018-10-18 05:18:05,167 - INFO - ffc0af7 - datalabframework-demos.git - jovyan - ingest.ipynb - engine.write - {'format': 'parquet', 'service': 'hdfs', 'path': 'source.category', 'url': 'hdfs://hdfs-nn:8020/data/ingest/source.category'}\n",
      "city\n",
      "2018-10-18 05:18:05,360 - INFO - ffc0af7 - datalabframework-demos.git - jovyan - ingest.ipynb - engine.read - {'format': 'rdbms', 'service': 'mysql', 'path': 'city', 'url': 'jdbc:mysql://mysql:3306/sakila'}\n",
      "source.city\n",
      "2018-10-18 05:18:05,733 - INFO - ffc0af7 - datalabframework-demos.git - jovyan - ingest.ipynb - engine.write - {'format': 'parquet', 'service': 'hdfs', 'path': 'source.city', 'url': 'hdfs://hdfs-nn:8020/data/ingest/source.city'}\n",
      "country\n",
      "2018-10-18 05:18:05,939 - INFO - ffc0af7 - datalabframework-demos.git - jovyan - ingest.ipynb - engine.read - {'format': 'rdbms', 'service': 'mysql', 'path': 'country', 'url': 'jdbc:mysql://mysql:3306/sakila'}\n",
      "source.country\n",
      "2018-10-18 05:18:06,308 - INFO - ffc0af7 - datalabframework-demos.git - jovyan - ingest.ipynb - engine.write - {'format': 'parquet', 'service': 'hdfs', 'path': 'source.country', 'url': 'hdfs://hdfs-nn:8020/data/ingest/source.country'}\n",
      "customer\n",
      "2018-10-18 05:18:06,499 - INFO - ffc0af7 - datalabframework-demos.git - jovyan - ingest.ipynb - engine.read - {'format': 'rdbms', 'service': 'mysql', 'path': 'customer', 'url': 'jdbc:mysql://mysql:3306/sakila'}\n",
      "source.customer\n",
      "2018-10-18 05:18:06,926 - INFO - ffc0af7 - datalabframework-demos.git - jovyan - ingest.ipynb - engine.write - {'format': 'parquet', 'service': 'hdfs', 'path': 'source.customer', 'url': 'hdfs://hdfs-nn:8020/data/ingest/source.customer'}\n",
      "film\n",
      "2018-10-18 05:18:07,134 - INFO - ffc0af7 - datalabframework-demos.git - jovyan - ingest.ipynb - engine.read - {'format': 'rdbms', 'service': 'mysql', 'path': 'film', 'url': 'jdbc:mysql://mysql:3306/sakila'}\n",
      "source.film\n",
      "2018-10-18 05:18:07,576 - INFO - ffc0af7 - datalabframework-demos.git - jovyan - ingest.ipynb - engine.write - {'format': 'parquet', 'service': 'hdfs', 'path': 'source.film', 'url': 'hdfs://hdfs-nn:8020/data/ingest/source.film'}\n",
      "film_actor\n",
      "2018-10-18 05:18:07,780 - INFO - ffc0af7 - datalabframework-demos.git - jovyan - ingest.ipynb - engine.read - {'format': 'rdbms', 'service': 'mysql', 'path': 'film_actor', 'url': 'jdbc:mysql://mysql:3306/sakila'}\n",
      "source.film_actor\n",
      "2018-10-18 05:18:08,670 - INFO - ffc0af7 - datalabframework-demos.git - jovyan - ingest.ipynb - engine.write - {'format': 'parquet', 'service': 'hdfs', 'path': 'source.film_actor', 'url': 'hdfs://hdfs-nn:8020/data/ingest/source.film_actor'}\n",
      "film_category\n",
      "2018-10-18 05:18:09,077 - INFO - ffc0af7 - datalabframework-demos.git - jovyan - ingest.ipynb - engine.read - {'format': 'rdbms', 'service': 'mysql', 'path': 'film_category', 'url': 'jdbc:mysql://mysql:3306/sakila'}\n",
      "source.film_category\n",
      "2018-10-18 05:18:09,645 - INFO - ffc0af7 - datalabframework-demos.git - jovyan - ingest.ipynb - engine.write - {'format': 'parquet', 'service': 'hdfs', 'path': 'source.film_category', 'url': 'hdfs://hdfs-nn:8020/data/ingest/source.film_category'}\n",
      "film_text\n",
      "2018-10-18 05:18:09,896 - INFO - ffc0af7 - datalabframework-demos.git - jovyan - ingest.ipynb - engine.read - {'format': 'rdbms', 'service': 'mysql', 'path': 'film_text', 'url': 'jdbc:mysql://mysql:3306/sakila'}\n",
      "source.film_text\n",
      "2018-10-18 05:18:10,664 - INFO - ffc0af7 - datalabframework-demos.git - jovyan - ingest.ipynb - engine.write - {'format': 'parquet', 'service': 'hdfs', 'path': 'source.film_text', 'url': 'hdfs://hdfs-nn:8020/data/ingest/source.film_text'}\n",
      "inventory\n",
      "2018-10-18 05:18:10,858 - INFO - ffc0af7 - datalabframework-demos.git - jovyan - ingest.ipynb - engine.read - {'format': 'rdbms', 'service': 'mysql', 'path': 'inventory', 'url': 'jdbc:mysql://mysql:3306/sakila'}\n",
      "source.inventory\n",
      "2018-10-18 05:18:11,307 - INFO - ffc0af7 - datalabframework-demos.git - jovyan - ingest.ipynb - engine.write - {'format': 'parquet', 'service': 'hdfs', 'path': 'source.inventory', 'url': 'hdfs://hdfs-nn:8020/data/ingest/source.inventory'}\n",
      "language\n",
      "2018-10-18 05:18:11,486 - INFO - ffc0af7 - datalabframework-demos.git - jovyan - ingest.ipynb - engine.read - {'format': 'rdbms', 'service': 'mysql', 'path': 'language', 'url': 'jdbc:mysql://mysql:3306/sakila'}\n",
      "source.language\n",
      "2018-10-18 05:18:11,801 - INFO - ffc0af7 - datalabframework-demos.git - jovyan - ingest.ipynb - engine.write - {'format': 'parquet', 'service': 'hdfs', 'path': 'source.language', 'url': 'hdfs://hdfs-nn:8020/data/ingest/source.language'}\n",
      "payment\n",
      "2018-10-18 05:18:12,072 - INFO - ffc0af7 - datalabframework-demos.git - jovyan - ingest.ipynb - engine.read - {'format': 'rdbms', 'service': 'mysql', 'path': 'payment', 'url': 'jdbc:mysql://mysql:3306/sakila'}\n",
      "source.payment\n",
      "2018-10-18 05:18:12,625 - INFO - ffc0af7 - datalabframework-demos.git - jovyan - ingest.ipynb - engine.write - {'format': 'parquet', 'service': 'hdfs', 'path': 'source.payment', 'url': 'hdfs://hdfs-nn:8020/data/ingest/source.payment'}\n",
      "rental\n",
      "2018-10-18 05:18:12,806 - INFO - ffc0af7 - datalabframework-demos.git - jovyan - ingest.ipynb - engine.read - {'format': 'rdbms', 'service': 'mysql', 'path': 'rental', 'url': 'jdbc:mysql://mysql:3306/sakila'}\n",
      "source.rental\n",
      "2018-10-18 05:18:13,253 - INFO - ffc0af7 - datalabframework-demos.git - jovyan - ingest.ipynb - engine.write - {'format': 'parquet', 'service': 'hdfs', 'path': 'source.rental', 'url': 'hdfs://hdfs-nn:8020/data/ingest/source.rental'}\n",
      "staff\n",
      "2018-10-18 05:18:13,429 - INFO - ffc0af7 - datalabframework-demos.git - jovyan - ingest.ipynb - engine.read - {'format': 'rdbms', 'service': 'mysql', 'path': 'staff', 'url': 'jdbc:mysql://mysql:3306/sakila'}\n",
      "source.staff\n",
      "2018-10-18 05:18:13,786 - INFO - ffc0af7 - datalabframework-demos.git - jovyan - ingest.ipynb - engine.write - {'format': 'parquet', 'service': 'hdfs', 'path': 'source.staff', 'url': 'hdfs://hdfs-nn:8020/data/ingest/source.staff'}\n",
      "store\n",
      "2018-10-18 05:18:13,954 - INFO - ffc0af7 - datalabframework-demos.git - jovyan - ingest.ipynb - engine.read - {'format': 'rdbms', 'service': 'mysql', 'path': 'store', 'url': 'jdbc:mysql://mysql:3306/sakila'}\n",
      "source.store\n",
      "2018-10-18 05:18:14,899 - INFO - ffc0af7 - datalabframework-demos.git - jovyan - ingest.ipynb - engine.write - {'format': 'parquet', 'service': 'hdfs', 'path': 'source.store', 'url': 'hdfs://hdfs-nn:8020/data/ingest/source.store'}\n"
     ]
    }
   ],
   "source": [
    "day = md = dlf.params.metadata()\n",
    "for resource in md['resources']:\n",
    "    ds = md['resources'][resource]\n",
    "    if ds['provider']=='source':\n",
    "        print(ds['path'])\n",
    "        # read\n",
    "        df_src = engine.read(resource)\n",
    "        \n",
    "        # define target path\n",
    "        target_path = '{}.{}'.format(ds['provider'],ds['path'])\n",
    "        print(target_path)\n",
    "        \n",
    "        # write\n",
    "        engine.write(df_src, path=target_path, provider='target', mode='overwrite')"
   ]
  },
  {
   "cell_type": "markdown",
   "metadata": {},
   "source": [
    "### Ingest from source to target "
   ]
  },
  {
   "cell_type": "code",
   "execution_count": 1,
   "metadata": {},
   "outputs": [],
   "source": [
    "import datalabframework as dlf"
   ]
  },
  {
   "cell_type": "code",
   "execution_count": 2,
   "metadata": {},
   "outputs": [
    {
     "name": "stdout",
     "output_type": "stream",
     "text": [
      "PYSPARK_SUBMIT_ARGS:  --packages mysql:mysql-connector-java:8.0.12 pyspark-shell\n"
     ]
    }
   ],
   "source": [
    "dlf.data.metadata('resources.actor')\n",
    "engine = dlf.engines.get('spark')\n",
    "spark = engine.context()"
   ]
  },
  {
   "cell_type": "code",
   "execution_count": 3,
   "metadata": {},
   "outputs": [],
   "source": [
    "# df =  engine.read('resources.actor')\n",
    "# df.groupby('last_update').count().show()"
   ]
  },
  {
   "cell_type": "code",
   "execution_count": 7,
   "metadata": {},
   "outputs": [
    {
     "name": "stdout",
     "output_type": "stream",
     "text": [
      "condition: last_update < \"2018-10-18T00:00:00\" and last_update >= \"2006-02-15T00:00:00\" \n",
      "ingest.language/schema target\n",
      "2018-10-18 07:02:17,762 - WARNING - ffc0af7 - datalabframework-demos.git - jovyan - ingest.ipynb - message - No schema file for ingest.language, target\n",
      "schema date 2018-10-18 00:00:00\n",
      "2018-10-18 07:02:17,998 - INFO - ffc0af7 - datalabframework-demos.git - jovyan - ingest.ipynb - engine.read - {'format': 'rdbms', 'service': 'mysql', 'path': 'language', 'url': 'jdbc:mysql://mysql:3306/sakila'}\n",
      "{'provider': {'format': 'parquet', 'hostname': 'hdfs-nn', 'path': 'data/ingest', 'service': 'hdfs', 'write': {'coalesce': 2, 'options': {'mode': 'append'}}}, 'resource': {'path': 'ingest.language', 'provider': 'target'}, 'url': 'hdfs://hdfs-nn:8020/data/ingest/ingest.language'}\n",
      "ingest.language/2018-10-18\n",
      "2018-10-18 07:02:18,247 - WARNING - ffc0af7 - datalabframework-demos.git - jovyan - ingest.ipynb - message - Nothing to read from destination: ingest.language/2018-10-18, target\n",
      "2018-10-18 07:02:19,337 - INFO - ffc0af7 - datalabframework-demos.git - jovyan - ingest.ipynb - engine.write - {'format': 'parquet', 'service': 'hdfs', 'path': 'ingest.language/schema', 'url': 'hdfs://hdfs-nn:8020/data/ingest/ingest.language/schema'}\n",
      "2018-10-18 07:02:19,839 - INFO - ffc0af7 - datalabframework-demos.git - jovyan - ingest.ipynb - engine.write - {'format': 'parquet', 'service': 'hdfs', 'path': 'ingest.language/2018-10-18', 'url': 'hdfs://hdfs-nn:8020/data/ingest/ingest.language/2018-10-18'}\n"
     ]
    }
   ],
   "source": [
    "engine.ingest(src_resource='resources.language', dest_path='ingest.language', dest_provider='target')"
   ]
  },
  {
   "cell_type": "code",
   "execution_count": 8,
   "metadata": {},
   "outputs": [
    {
     "data": {
      "text/plain": [
       "DataFrame[date: timestamp, schema: string]"
      ]
     },
     "execution_count": 8,
     "metadata": {},
     "output_type": "execute_result"
    }
   ],
   "source": [
    "import pandas as pd\n",
    "from datetime import datetime\n",
    "import json\n",
    "\n",
    "df = pd.DataFrame(columns=['date', 'schema'], data=[[datetime.today(), json.dumps({'ohlala':42})]])\n",
    "spark = engine.context()\n",
    "spark.createDataFrame(df)"
   ]
  },
  {
   "cell_type": "code",
   "execution_count": 9,
   "metadata": {},
   "outputs": [
    {
     "name": "stdout",
     "output_type": "stream",
     "text": [
      "2018-10-18 07:02:20,173 - INFO - ffc0af7 - datalabframework-demos.git - jovyan - ingest.ipynb - engine.read - {'format': 'parquet', 'service': 'hdfs', 'path': 'ingest.language/schema', 'url': 'hdfs://hdfs-nn:8020/data/ingest/ingest.language/schema'}\n",
      "+--------------------+--------------------+\n",
      "|                date|              schema|\n",
      "+--------------------+--------------------+\n",
      "|2018-10-18 07:02:...|{\"fields\":[{\"meta...|\n",
      "+--------------------+--------------------+\n",
      "\n"
     ]
    }
   ],
   "source": [
    "engine.read(path='ingest.language/schema', provider='target').show(5)"
   ]
  },
  {
   "cell_type": "markdown",
   "metadata": {},
   "source": [
    "## pre checks\n",
    "\n",
    "schema checks:\n",
    "\n",
    " - get table schema from source\n",
    " - compare with reference schema\n",
    " \n",
    "value checks:\n",
    " - null\n",
    " - invalid "
   ]
  },
  {
   "cell_type": "markdown",
   "metadata": {},
   "source": [
    "## Ingest strategy\n",
    "\n",
    "#### **what to read?**\n",
    " \n",
    "FULL scan:  \n",
    "tables are lost or never ingested before\n",
    " \n",
    "  - cold start\n",
    "  - disaster recovery from source\n",
    "     \n",
    "INCREMENTAL scan:  \n",
    "We need a way to select/filter new data\n",
    "\n",
    "  - time based (default, i.e. last_update column)\n",
    "  - index based (if index is auto incrementing)\n",
    "  - hash compare indexes (expensive)\n",
    "  - full rescan and tag with ingest date\n",
    " \n",
    "#### **where to write?**\n",
    "\n",
    "  - define a naming convention for the target tables (default schema version: `latest`)  \n",
    "    `<source>/<db-name>/<table-name>/<schema-version-date>`\n",
    "    \n",
    "#### **exceptions**\n",
    ": what to do? (show error)"
   ]
  },
  {
   "cell_type": "markdown",
   "metadata": {},
   "source": [
    "### HDFS"
   ]
  },
  {
   "cell_type": "code",
   "execution_count": 5,
   "metadata": {},
   "outputs": [
    {
     "name": "stdout",
     "output_type": "stream",
     "text": [
      "hdfs://hdfs-nn:8020//data/ingest/extract/sakila.actor\n",
      "+--------+----------+------------+-------------------+\n",
      "|actor_id|first_name|   last_name|        last_update|\n",
      "+--------+----------+------------+-------------------+\n",
      "|       1|  PENELOPE|     GUINESS|2006-02-15 04:34:33|\n",
      "|       2|      NICK|    WAHLBERG|2006-02-15 04:34:33|\n",
      "|       3|        ED|       CHASE|2006-02-15 04:34:33|\n",
      "|       4|  JENNIFER|       DAVIS|2006-02-15 04:34:33|\n",
      "|       5|    JOHNNY|LOLLOBRIGIDA|2006-02-15 04:34:33|\n",
      "|       6|     BETTE|   NICHOLSON|2006-02-15 04:34:33|\n",
      "|       7|     GRACE|      MOSTEL|2006-02-15 04:34:33|\n",
      "|       8|   MATTHEW|   JOHANSSON|2006-02-15 04:34:33|\n",
      "|       9|       JOE|       SWANK|2006-02-15 04:34:33|\n",
      "|      10| CHRISTIAN|       GABLE|2006-02-15 04:34:33|\n",
      "|      11|      ZERO|        CAGE|2006-02-15 04:34:33|\n",
      "|      12|      KARL|       BERRY|2006-02-15 04:34:33|\n",
      "|      13|       UMA|        WOOD|2006-02-15 04:34:33|\n",
      "|      14|    VIVIEN|      BERGEN|2006-02-15 04:34:33|\n",
      "|      15|      CUBA|     OLIVIER|2006-02-15 04:34:33|\n",
      "|      16|      FRED|     COSTNER|2006-02-15 04:34:33|\n",
      "|      17|     HELEN|      VOIGHT|2006-02-15 04:34:33|\n",
      "|      18|       DAN|        TORN|2006-02-15 04:34:33|\n",
      "|      19|       BOB|     FAWCETT|2006-02-15 04:34:33|\n",
      "|      20|   LUCILLE|       TRACY|2006-02-15 04:34:33|\n",
      "+--------+----------+------------+-------------------+\n",
      "only showing top 20 rows\n",
      "\n"
     ]
    }
   ],
   "source": [
    "# read back from hdfs in parquet format\n",
    "df_trg = engine.read('target', 'ingest')\n",
    "df_trg.where(col(colname) => 'datetime')\n",
    "df_trg.show()"
   ]
  },
  {
   "cell_type": "markdown",
   "metadata": {},
   "source": [
    "## post checks"
   ]
  },
  {
   "cell_type": "code",
   "execution_count": 6,
   "metadata": {},
   "outputs": [],
   "source": [
    "assert(df_src.subtract(df_trg).count()==0)"
   ]
  },
  {
   "cell_type": "code",
   "execution_count": null,
   "metadata": {},
   "outputs": [],
   "source": [
    "engine.read(path='abcd', provider='dsds')\n",
    "write(df, path='abcd', provider='ingest')\n",
    "\n",
    "engine.read('resource_alias')\n",
    "engine.write(df, 'resource_alias')\n"
   ]
  }
 ],
 "metadata": {
  "kernelspec": {
   "display_name": "Python 3",
   "language": "python",
   "name": "python3"
  },
  "language_info": {
   "codemirror_mode": {
    "name": "ipython",
    "version": 3
   },
   "file_extension": ".py",
   "mimetype": "text/x-python",
   "name": "python",
   "nbconvert_exporter": "python",
   "pygments_lexer": "ipython3",
   "version": "3.6.3"
  }
 },
 "nbformat": 4,
 "nbformat_minor": 2
}
