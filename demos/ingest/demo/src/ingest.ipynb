{
 "cells": [
  {
   "cell_type": "code",
   "execution_count": 1,
   "metadata": {},
   "outputs": [],
   "source": [
    "import datalabframework as dlf"
   ]
  },
  {
   "cell_type": "code",
   "execution_count": 2,
   "metadata": {},
   "outputs": [
    {
     "data": {
      "text/plain": [
       "(0, 5, 10)"
      ]
     },
     "execution_count": 2,
     "metadata": {},
     "output_type": "execute_result"
    }
   ],
   "source": [
    "dlf.version_info"
   ]
  },
  {
   "cell_type": "code",
   "execution_count": 3,
   "metadata": {},
   "outputs": [
    {
     "name": "stdout",
     "output_type": "stream",
     "text": [
      "PYSPARK_SUBMIT_ARGS:  --packages mysql:mysql-connector-java:8.0.12 pyspark-shell\n"
     ]
    }
   ],
   "source": [
    "engine = dlf.engines.get('spark')\n",
    "spark = engine.context()"
   ]
  },
  {
   "cell_type": "code",
   "execution_count": 4,
   "metadata": {},
   "outputs": [
    {
     "name": "stdout",
     "output_type": "stream",
     "text": [
      "{'column': 'last_update', 'end_date': '2006-02-16', 'policy': 'date', 'window': '1 days'}\n",
      "start date 2006-02-15T00:00:00, end date 2006-02-16T00:00:00\n",
      "filtered records 200\n",
      "2018-10-19 07:17:45,662 - INFO - 52e0f2d - datalabframework-demos.git - jovyan - ingest.ipynb - engine.read - {'format': 'rdbms', 'service': 'mysql', 'path': 'actor', 'url': 'jdbc:mysql://mysql:3306/sakila'}\n",
      "root\n",
      " |-- actor_id: integer (nullable = true)\n",
      " |-- first_name: string (nullable = true)\n",
      " |-- last_name: string (nullable = true)\n",
      " |-- last_update: timestamp (nullable = true)\n",
      "\n"
     ]
    }
   ],
   "source": [
    "df = engine.read('.resources.actor')\n",
    "df.printSchema()"
   ]
  },
  {
   "cell_type": "code",
   "execution_count": 5,
   "metadata": {},
   "outputs": [
    {
     "name": "stdout",
     "output_type": "stream",
     "text": [
      "+--------+----------+---------+-------------------+\n",
      "|actor_id|first_name|last_name|        last_update|\n",
      "+--------+----------+---------+-------------------+\n",
      "|     105|    SIDNEY|    CROWE|2006-02-15 04:34:33|\n",
      "|     172|   GROUCHO| WILLIAMS|2006-02-15 04:34:33|\n",
      "|      74|     MILLA|   KEITEL|2006-02-15 04:34:33|\n",
      "|      48|   FRANCES|DAY-LEWIS|2006-02-15 04:34:33|\n",
      "|      65|    ANGELA|   HUDSON|2006-02-15 04:34:33|\n",
      "|      69|   KENNETH|  PALTROW|2006-02-15 04:34:33|\n",
      "|      28|     WOODY|  HOFFMAN|2006-02-15 04:34:33|\n",
      "|     104|  PENELOPE|   CRONYN|2006-02-15 04:34:33|\n",
      "|     146|    ALBERT|JOHANSSON|2006-02-15 04:34:33|\n",
      "|     198|      MARY|   KEITEL|2006-02-15 04:34:33|\n",
      "|     182|    DEBBIE|   AKROYD|2006-02-15 04:34:33|\n",
      "|      81|  SCARLETT|    DAMON|2006-02-15 04:34:33|\n",
      "|      68|       RIP|  WINSLET|2006-02-15 04:34:33|\n",
      "|      87|   SPENCER|     PECK|2006-02-15 04:34:33|\n",
      "|      21|   KIRSTEN|  PALTROW|2006-02-15 04:34:33|\n",
      "|     197|     REESE|     WEST|2006-02-15 04:34:33|\n",
      "|     158|    VIVIEN| BASINGER|2006-02-15 04:34:33|\n",
      "|      22|     ELVIS|     MARX|2006-02-15 04:34:33|\n",
      "|     200|     THORA|   TEMPLE|2006-02-15 04:34:33|\n",
      "|      98|     CHRIS|  BRIDGES|2006-02-15 04:34:33|\n",
      "+--------+----------+---------+-------------------+\n",
      "only showing top 20 rows\n",
      "\n"
     ]
    }
   ],
   "source": [
    "df.show()"
   ]
  },
  {
   "cell_type": "code",
   "execution_count": 10,
   "metadata": {},
   "outputs": [
    {
     "name": "stdout",
     "output_type": "stream",
     "text": [
      "actor\n",
      "{'column': 'last_update', 'end_date': '2014-09-26', 'policy': 'date', 'window': '1 days'}\n",
      "filter by date {'column': 'last_update', 'end_date': '2014-09-26', 'policy': 'date', 'window': '1 days'}\n",
      "2014-09-25T00:00:00 2014-09-26T00:00:00\n",
      "last_update < \"2014-09-26T00:00:00\" and last_update >= \"2014-09-25T00:00:00\" \n",
      "selected:  0\n",
      "2018-10-19 05:05:34,195 - INFO - 52e0f2d - datalabframework-demos.git - jovyan - ingest.ipynb - engine.read - {'format': 'rdbms', 'service': 'mysql', 'path': 'actor', 'url': 'jdbc:mysql://mysql:3306/sakila'}\n",
      "+--------+----------+---------+-----------+\n",
      "|actor_id|first_name|last_name|last_update|\n",
      "+--------+----------+---------+-----------+\n",
      "+--------+----------+---------+-----------+\n",
      "\n",
      "address\n",
      "{'column': 'last_update', 'end_date': '2014-09-26', 'policy': 'date', 'window': '1 days'}\n",
      "filter by date {'column': 'last_update', 'end_date': '2014-09-26', 'policy': 'date', 'window': '1 days'}\n",
      "2014-09-25T00:00:00 2014-09-26T00:00:00\n",
      "last_update < \"2014-09-26T00:00:00\" and last_update >= \"2014-09-25T00:00:00\" \n",
      "selected:  0\n",
      "2018-10-19 05:05:34,594 - INFO - 52e0f2d - datalabframework-demos.git - jovyan - ingest.ipynb - engine.read - {'format': 'rdbms', 'service': 'mysql', 'path': 'address', 'url': 'jdbc:mysql://mysql:3306/sakila'}\n",
      "+----------+-------+--------+--------+-------+-----------+-----+--------+-----------+\n",
      "|address_id|address|address2|district|city_id|postal_code|phone|location|last_update|\n",
      "+----------+-------+--------+--------+-------+-----------+-----+--------+-----------+\n",
      "+----------+-------+--------+--------+-------+-----------+-----+--------+-----------+\n",
      "\n",
      "category\n",
      "{'column': 'last_update', 'end_date': '2014-09-26', 'policy': 'date', 'window': '1 days'}\n",
      "filter by date {'column': 'last_update', 'end_date': '2014-09-26', 'policy': 'date', 'window': '1 days'}\n",
      "2014-09-25T00:00:00 2014-09-26T00:00:00\n",
      "last_update < \"2014-09-26T00:00:00\" and last_update >= \"2014-09-25T00:00:00\" \n",
      "selected:  0\n",
      "2018-10-19 05:05:35,059 - INFO - 52e0f2d - datalabframework-demos.git - jovyan - ingest.ipynb - engine.read - {'format': 'rdbms', 'service': 'mysql', 'path': 'category', 'url': 'jdbc:mysql://mysql:3306/sakila'}\n",
      "+-----------+----+-----------+\n",
      "|category_id|name|last_update|\n",
      "+-----------+----+-----------+\n",
      "+-----------+----+-----------+\n",
      "\n",
      "city\n",
      "{'column': 'last_update', 'end_date': '2014-09-26', 'policy': 'date', 'window': '1 days'}\n",
      "filter by date {'column': 'last_update', 'end_date': '2014-09-26', 'policy': 'date', 'window': '1 days'}\n",
      "2014-09-25T00:00:00 2014-09-26T00:00:00\n",
      "last_update < \"2014-09-26T00:00:00\" and last_update >= \"2014-09-25T00:00:00\" \n",
      "selected:  0\n",
      "2018-10-19 05:05:35,393 - INFO - 52e0f2d - datalabframework-demos.git - jovyan - ingest.ipynb - engine.read - {'format': 'rdbms', 'service': 'mysql', 'path': 'city', 'url': 'jdbc:mysql://mysql:3306/sakila'}\n",
      "+-------+----+----------+-----------+\n",
      "|city_id|city|country_id|last_update|\n",
      "+-------+----+----------+-----------+\n",
      "+-------+----+----------+-----------+\n",
      "\n",
      "country\n",
      "{'column': 'last_update', 'end_date': '2014-09-26', 'policy': 'date', 'window': '1 days'}\n",
      "filter by date {'column': 'last_update', 'end_date': '2014-09-26', 'policy': 'date', 'window': '1 days'}\n",
      "2014-09-25T00:00:00 2014-09-26T00:00:00\n",
      "last_update < \"2014-09-26T00:00:00\" and last_update >= \"2014-09-25T00:00:00\" \n",
      "selected:  0\n",
      "2018-10-19 05:05:35,775 - INFO - 52e0f2d - datalabframework-demos.git - jovyan - ingest.ipynb - engine.read - {'format': 'rdbms', 'service': 'mysql', 'path': 'country', 'url': 'jdbc:mysql://mysql:3306/sakila'}\n",
      "+----------+-------+-----------+\n",
      "|country_id|country|last_update|\n",
      "+----------+-------+-----------+\n",
      "+----------+-------+-----------+\n",
      "\n",
      "customer\n",
      "{'column': 'last_update', 'end_date': '2014-09-26', 'policy': 'date', 'window': '1 days'}\n",
      "filter by date {'column': 'last_update', 'end_date': '2014-09-26', 'policy': 'date', 'window': '1 days'}\n",
      "2014-09-25T00:00:00 2014-09-26T00:00:00\n",
      "last_update < \"2014-09-26T00:00:00\" and last_update >= \"2014-09-25T00:00:00\" \n",
      "selected:  0\n",
      "2018-10-19 05:05:36,141 - INFO - 52e0f2d - datalabframework-demos.git - jovyan - ingest.ipynb - engine.read - {'format': 'rdbms', 'service': 'mysql', 'path': 'customer', 'url': 'jdbc:mysql://mysql:3306/sakila'}\n",
      "+-----------+--------+----------+---------+-----+----------+------+-----------+-----------+\n",
      "|customer_id|store_id|first_name|last_name|email|address_id|active|create_date|last_update|\n",
      "+-----------+--------+----------+---------+-----+----------+------+-----------+-----------+\n",
      "+-----------+--------+----------+---------+-----+----------+------+-----------+-----------+\n",
      "\n",
      "film\n",
      "{'column': 'last_update', 'end_date': '2014-09-26', 'policy': 'date', 'window': '1 days'}\n",
      "filter by date {'column': 'last_update', 'end_date': '2014-09-26', 'policy': 'date', 'window': '1 days'}\n",
      "2014-09-25T00:00:00 2014-09-26T00:00:00\n",
      "last_update < \"2014-09-26T00:00:00\" and last_update >= \"2014-09-25T00:00:00\" \n",
      "selected:  0\n",
      "2018-10-19 05:05:36,569 - INFO - 52e0f2d - datalabframework-demos.git - jovyan - ingest.ipynb - engine.read - {'format': 'rdbms', 'service': 'mysql', 'path': 'film', 'url': 'jdbc:mysql://mysql:3306/sakila'}\n",
      "+-------+-----+-----------+------------+-----------+--------------------+---------------+-----------+------+----------------+------+----------------+-----------+\n",
      "|film_id|title|description|release_year|language_id|original_language_id|rental_duration|rental_rate|length|replacement_cost|rating|special_features|last_update|\n",
      "+-------+-----+-----------+------------+-----------+--------------------+---------------+-----------+------+----------------+------+----------------+-----------+\n",
      "+-------+-----+-----------+------------+-----------+--------------------+---------------+-----------+------+----------------+------+----------------+-----------+\n",
      "\n",
      "film_actor\n",
      "{'column': 'last_update', 'end_date': '2014-09-26', 'policy': 'date', 'window': '1 days'}\n",
      "filter by date {'column': 'last_update', 'end_date': '2014-09-26', 'policy': 'date', 'window': '1 days'}\n",
      "2014-09-25T00:00:00 2014-09-26T00:00:00\n",
      "last_update < \"2014-09-26T00:00:00\" and last_update >= \"2014-09-25T00:00:00\" \n",
      "selected:  0\n",
      "2018-10-19 05:05:36,916 - INFO - 52e0f2d - datalabframework-demos.git - jovyan - ingest.ipynb - engine.read - {'format': 'rdbms', 'service': 'mysql', 'path': 'film_actor', 'url': 'jdbc:mysql://mysql:3306/sakila'}\n",
      "+--------+-------+-----------+\n",
      "|actor_id|film_id|last_update|\n",
      "+--------+-------+-----------+\n",
      "+--------+-------+-----------+\n",
      "\n",
      "film_category\n",
      "{'column': 'last_update', 'end_date': '2014-09-26', 'policy': 'date', 'window': '1 days'}\n",
      "filter by date {'column': 'last_update', 'end_date': '2014-09-26', 'policy': 'date', 'window': '1 days'}\n",
      "2014-09-25T00:00:00 2014-09-26T00:00:00\n",
      "last_update < \"2014-09-26T00:00:00\" and last_update >= \"2014-09-25T00:00:00\" \n",
      "selected:  0\n",
      "2018-10-19 05:05:37,340 - INFO - 52e0f2d - datalabframework-demos.git - jovyan - ingest.ipynb - engine.read - {'format': 'rdbms', 'service': 'mysql', 'path': 'film_category', 'url': 'jdbc:mysql://mysql:3306/sakila'}\n",
      "+-------+-----------+-----------+\n",
      "|film_id|category_id|last_update|\n",
      "+-------+-----------+-----------+\n",
      "+-------+-----------+-----------+\n",
      "\n",
      "film_text\n",
      "{'policy': 'none'}\n",
      "2018-10-19 05:05:37,640 - INFO - 52e0f2d - datalabframework-demos.git - jovyan - ingest.ipynb - engine.read - {'format': 'rdbms', 'service': 'mysql', 'path': 'film_text', 'url': 'jdbc:mysql://mysql:3306/sakila'}\n",
      "+-------+-----------------+--------------------+\n",
      "|film_id|            title|         description|\n",
      "+-------+-----------------+--------------------+\n",
      "|    718|    REBEL AIRPORT|A Intrepid Yarn o...|\n",
      "|    772|       SEA VIRGIN|A Fast-Paced Docu...|\n",
      "|    592|MONSTER SPARTACUS|A Fast-Paced Stor...|\n",
      "|    784|  SHANGHAI TYCOON|A Fast-Paced Char...|\n",
      "|    435|  HOTEL HAPPINESS|A Thrilling Yarn ...|\n",
      "+-------+-----------------+--------------------+\n",
      "only showing top 5 rows\n",
      "\n",
      "inventory\n",
      "{'column': 'last_update', 'end_date': '2014-09-26', 'policy': 'date', 'window': '1 days'}\n",
      "filter by date {'column': 'last_update', 'end_date': '2014-09-26', 'policy': 'date', 'window': '1 days'}\n",
      "2014-09-25T00:00:00 2014-09-26T00:00:00\n",
      "last_update < \"2014-09-26T00:00:00\" and last_update >= \"2014-09-25T00:00:00\" \n",
      "selected:  0\n",
      "2018-10-19 05:05:38,074 - INFO - 52e0f2d - datalabframework-demos.git - jovyan - ingest.ipynb - engine.read - {'format': 'rdbms', 'service': 'mysql', 'path': 'inventory', 'url': 'jdbc:mysql://mysql:3306/sakila'}\n",
      "+------------+-------+--------+-----------+\n",
      "|inventory_id|film_id|store_id|last_update|\n",
      "+------------+-------+--------+-----------+\n",
      "+------------+-------+--------+-----------+\n",
      "\n",
      "language\n",
      "{'column': 'last_update', 'end_date': '2014-09-26', 'policy': 'date', 'window': '1 days'}\n",
      "filter by date {'column': 'last_update', 'end_date': '2014-09-26', 'policy': 'date', 'window': '1 days'}\n",
      "2014-09-25T00:00:00 2014-09-26T00:00:00\n",
      "last_update < \"2014-09-26T00:00:00\" and last_update >= \"2014-09-25T00:00:00\" \n",
      "selected:  0\n",
      "2018-10-19 05:05:38,406 - INFO - 52e0f2d - datalabframework-demos.git - jovyan - ingest.ipynb - engine.read - {'format': 'rdbms', 'service': 'mysql', 'path': 'language', 'url': 'jdbc:mysql://mysql:3306/sakila'}\n",
      "+-----------+----+-----------+\n",
      "|language_id|name|last_update|\n",
      "+-----------+----+-----------+\n",
      "+-----------+----+-----------+\n",
      "\n",
      "payment\n",
      "{'column': 'last_update', 'end_date': '2014-09-26', 'policy': 'date', 'window': '1 days'}\n",
      "filter by date {'column': 'last_update', 'end_date': '2014-09-26', 'policy': 'date', 'window': '1 days'}\n",
      "2014-09-25T00:00:00 2014-09-26T00:00:00\n",
      "last_update < \"2014-09-26T00:00:00\" and last_update >= \"2014-09-25T00:00:00\" \n",
      "selected:  0\n",
      "2018-10-19 05:05:38,851 - INFO - 52e0f2d - datalabframework-demos.git - jovyan - ingest.ipynb - engine.read - {'format': 'rdbms', 'service': 'mysql', 'path': 'payment', 'url': 'jdbc:mysql://mysql:3306/sakila'}\n",
      "+----------+-----------+--------+---------+------+------------+-----------+\n",
      "|payment_id|customer_id|staff_id|rental_id|amount|payment_date|last_update|\n",
      "+----------+-----------+--------+---------+------+------------+-----------+\n",
      "+----------+-----------+--------+---------+------+------------+-----------+\n",
      "\n",
      "rental\n",
      "{'column': 'last_update', 'end_date': '2014-09-26', 'policy': 'date', 'window': '1 days'}\n",
      "filter by date {'column': 'last_update', 'end_date': '2014-09-26', 'policy': 'date', 'window': '1 days'}\n",
      "2014-09-25T00:00:00 2014-09-26T00:00:00\n",
      "last_update < \"2014-09-26T00:00:00\" and last_update >= \"2014-09-25T00:00:00\" \n",
      "selected:  0\n",
      "2018-10-19 05:05:39,344 - INFO - 52e0f2d - datalabframework-demos.git - jovyan - ingest.ipynb - engine.read - {'format': 'rdbms', 'service': 'mysql', 'path': 'rental', 'url': 'jdbc:mysql://mysql:3306/sakila'}\n",
      "+---------+-----------+------------+-----------+-----------+--------+-----------+\n",
      "|rental_id|rental_date|inventory_id|customer_id|return_date|staff_id|last_update|\n",
      "+---------+-----------+------------+-----------+-----------+--------+-----------+\n",
      "+---------+-----------+------------+-----------+-----------+--------+-----------+\n",
      "\n",
      "staff\n",
      "{'column': 'last_update', 'end_date': '2014-09-26', 'policy': 'date', 'window': '1 days'}\n",
      "filter by date {'column': 'last_update', 'end_date': '2014-09-26', 'policy': 'date', 'window': '1 days'}\n",
      "2014-09-25T00:00:00 2014-09-26T00:00:00\n",
      "last_update < \"2014-09-26T00:00:00\" and last_update >= \"2014-09-25T00:00:00\" \n",
      "selected:  0\n",
      "2018-10-19 05:05:39,775 - INFO - 52e0f2d - datalabframework-demos.git - jovyan - ingest.ipynb - engine.read - {'format': 'rdbms', 'service': 'mysql', 'path': 'staff', 'url': 'jdbc:mysql://mysql:3306/sakila'}\n",
      "+--------+----------+---------+----------+-------+-----+--------+------+--------+--------+-----------+\n",
      "|staff_id|first_name|last_name|address_id|picture|email|store_id|active|username|password|last_update|\n",
      "+--------+----------+---------+----------+-------+-----+--------+------+--------+--------+-----------+\n",
      "+--------+----------+---------+----------+-------+-----+--------+------+--------+--------+-----------+\n",
      "\n",
      "store\n",
      "{'column': 'last_update', 'end_date': '2014-09-26', 'policy': 'date', 'window': '1 days'}\n",
      "filter by date {'column': 'last_update', 'end_date': '2014-09-26', 'policy': 'date', 'window': '1 days'}\n",
      "2014-09-25T00:00:00 2014-09-26T00:00:00\n",
      "last_update < \"2014-09-26T00:00:00\" and last_update >= \"2014-09-25T00:00:00\" \n",
      "selected:  0\n",
      "2018-10-19 05:05:40,125 - INFO - 52e0f2d - datalabframework-demos.git - jovyan - ingest.ipynb - engine.read - {'format': 'rdbms', 'service': 'mysql', 'path': 'store', 'url': 'jdbc:mysql://mysql:3306/sakila'}\n",
      "+--------+----------------+----------+-----------+\n",
      "|store_id|manager_staff_id|address_id|last_update|\n",
      "+--------+----------------+----------+-----------+\n",
      "+--------+----------------+----------+-----------+\n",
      "\n"
     ]
    }
   ],
   "source": [
    "md = dlf.params.metadata()\n",
    "for resource in md['resources']:\n",
    "    ds = md['resources'][resource]\n",
    "    if ds['provider']=='source':\n",
    "        print(ds['path'])\n",
    "        # read\n",
    "        engine.read(resource).show(5)"
   ]
  },
  {
   "cell_type": "code",
   "execution_count": null,
   "metadata": {},
   "outputs": [],
   "source": [
    "day = md = dlf.params.metadata()\n",
    "for resource in md['resources']:\n",
    "    ds = md['resources'][resource]\n",
    "    if ds['provider']=='source':\n",
    "        print(ds['path'])\n",
    "        # read\n",
    "        df_src = engine.read(resource)\n",
    "        \n",
    "        # define target path\n",
    "        target_path = '{}.{}'.format(ds['provider'],ds['path'])\n",
    "        print(target_path)\n",
    "        \n",
    "        # write\n",
    "        engine.write(df_src, path=target_path, provider='target', mode='overwrite')"
   ]
  },
  {
   "cell_type": "markdown",
   "metadata": {},
   "source": [
    "### Ingest from source to target "
   ]
  },
  {
   "cell_type": "code",
   "execution_count": 1,
   "metadata": {},
   "outputs": [],
   "source": [
    "import datalabframework as dlf"
   ]
  },
  {
   "cell_type": "code",
   "execution_count": 2,
   "metadata": {},
   "outputs": [
    {
     "name": "stdout",
     "output_type": "stream",
     "text": [
      "PYSPARK_SUBMIT_ARGS:  --packages mysql:mysql-connector-java:8.0.12 pyspark-shell\n"
     ]
    }
   ],
   "source": [
    "dlf.data.metadata('resources.city')\n",
    "engine = dlf.engines.get('spark')\n",
    "spark = engine.context()"
   ]
  },
  {
   "cell_type": "code",
   "execution_count": 3,
   "metadata": {},
   "outputs": [],
   "source": [
    "# df =  engine.read('resources.actor')\n",
    "# df.groupby('last_update').count().show()"
   ]
  },
  {
   "cell_type": "code",
   "execution_count": 9,
   "metadata": {},
   "outputs": [
    {
     "name": "stdout",
     "output_type": "stream",
     "text": [
      "{'column': 'last_update', 'end_date': '2006-02-16', 'policy': 'date', 'window': '1 days'}\n",
      "start date 2006-02-15T00:00:00, end date 2006-02-16T00:00:00\n",
      "filtered records 600\n",
      "2018-10-19 08:04:48,585 - INFO - 52e0f2d - datalabframework-demos.git - jovyan - ingest.ipynb - engine.read - {'format': 'rdbms', 'service': 'mysql', 'path': 'city', 'url': 'jdbc:mysql://mysql:3306/sakila'}\n",
      "None\n",
      "2018-10-19 08:04:48,817 - INFO - 52e0f2d - datalabframework-demos.git - jovyan - ingest.ipynb - engine.read - {'format': 'parquet', 'service': 'hdfs', 'path': 'new2.city/schema', 'url': 'hdfs://hdfs-nn:8020/data/ingest/new2.city/schema'}\n",
      "None\n",
      "2018-10-19 08:04:49,146 - INFO - 52e0f2d - datalabframework-demos.git - jovyan - ingest.ipynb - engine.read - {'format': 'parquet', 'service': 'hdfs', 'path': 'new2.city/2018-10-19T080431', 'url': 'hdfs://hdfs-nn:8020/data/ingest/new2.city/2018-10-19T080431'}\n",
      "{\"fields\":[{\"metadata\":{},\"name\":\"city_id\",\"nullable\":true,\"type\":\"integer\"},{\"metadata\":{},\"name\":\"city\",\"nullable\":true,\"type\":\"string\"},{\"metadata\":{},\"name\":\"country_id\",\"nullable\":true,\"type\":\"integer\"},{\"metadata\":{},\"name\":\"last_update\",\"nullable\":true,\"type\":\"timestamp\"}],\"type\":\"struct\"}\n",
      "{\"fields\":[{\"metadata\":{},\"name\":\"city_id\",\"nullable\":true,\"type\":\"integer\"},{\"metadata\":{},\"name\":\"city\",\"nullable\":true,\"type\":\"string\"},{\"metadata\":{},\"name\":\"country_id\",\"nullable\":true,\"type\":\"integer\"},{\"metadata\":{},\"name\":\"last_update\",\"nullable\":true,\"type\":\"timestamp\"},{\"metadata\":{},\"name\":\"ingest_date\",\"nullable\":true,\"type\":\"string\"}],\"type\":\"struct\"}\n",
      "2018-10-19 08:04:49,576 - INFO - 52e0f2d - datalabframework-demos.git - jovyan - ingest.ipynb - engine.write - {'format': 'parquet', 'service': 'hdfs', 'path': 'new2.city/2018-10-19T080431', 'url': 'hdfs://hdfs-nn:8020/data/ingest/new2.city/2018-10-19T080431'}\n"
     ]
    }
   ],
   "source": [
    "engine.ingest(src_resource='resources.city', dest_path='new2.city', dest_provider='target')"
   ]
  },
  {
   "cell_type": "code",
   "execution_count": 16,
   "metadata": {},
   "outputs": [
    {
     "name": "stdout",
     "output_type": "stream",
     "text": [
      "None\n",
      "2018-10-19 08:05:48,712 - INFO - 52e0f2d - datalabframework-demos.git - jovyan - ingest.ipynb - engine.read - {'format': 'parquet', 'service': 'hdfs', 'path': 'new2.city/schema', 'url': 'hdfs://hdfs-nn:8020/data/ingest/new2.city/schema'}\n",
      "+-----------------+--------------------------+------------------------------------------------------------------------------------------------------------------------------------------------------------------------------------------------------------------------------------------------------------------------------------------------------------------------------------------------------------------------+\n",
      "|id               |date                      |schema                                                                                                                                                                                                                                                                                                                                                                  |\n",
      "+-----------------+--------------------------+------------------------------------------------------------------------------------------------------------------------------------------------------------------------------------------------------------------------------------------------------------------------------------------------------------------------------------------------------------------------+\n",
      "|2018-10-19T080533|2018-10-19 08:05:33.513874|{\"fields\":[{\"metadata\":{},\"name\":\"city_id\",\"nullable\":true,\"type\":\"integer\"},{\"metadata\":{},\"name\":\"city\",\"nullable\":true,\"type\":\"string\"},{\"metadata\":{},\"name\":\"country_id\",\"nullable\":true,\"type\":\"integer\"},{\"metadata\":{},\"name\":\"last_update\",\"nullable\":true,\"type\":\"timestamp\"},{\"metadata\":{},\"name\":\"ohoh\",\"nullable\":true,\"type\":\"integer\"}],\"type\":\"struct\"}|\n",
      "|2018-10-19T080431|2018-10-19 08:04:31.543533|{\"fields\":[{\"metadata\":{},\"name\":\"city_id\",\"nullable\":true,\"type\":\"integer\"},{\"metadata\":{},\"name\":\"city\",\"nullable\":true,\"type\":\"string\"},{\"metadata\":{},\"name\":\"country_id\",\"nullable\":true,\"type\":\"integer\"},{\"metadata\":{},\"name\":\"last_update\",\"nullable\":true,\"type\":\"timestamp\"}],\"type\":\"struct\"}                                                               |\n",
      "+-----------------+--------------------------+------------------------------------------------------------------------------------------------------------------------------------------------------------------------------------------------------------------------------------------------------------------------------------------------------------------------------------------------------------------------+\n",
      "\n"
     ]
    }
   ],
   "source": [
    "engine.read(path='new2.city/schema', provider='target').show(truncate=False)"
   ]
  },
  {
   "cell_type": "code",
   "execution_count": 17,
   "metadata": {},
   "outputs": [
    {
     "name": "stdout",
     "output_type": "stream",
     "text": [
      "None\n",
      "2018-10-19 08:06:01,330 - INFO - 52e0f2d - datalabframework-demos.git - jovyan - ingest.ipynb - engine.read - {'format': 'parquet', 'service': 'hdfs', 'path': 'new2.city/2018-10-19T080533', 'url': 'hdfs://hdfs-nn:8020/data/ingest/new2.city/2018-10-19T080533'}\n"
     ]
    },
    {
     "data": {
      "text/plain": [
       "1800"
      ]
     },
     "execution_count": 17,
     "metadata": {},
     "output_type": "execute_result"
    }
   ],
   "source": [
    "df = engine.read(path='new2.city/2018-10-19T080533', provider='target')\n",
    "df.count()"
   ]
  },
  {
   "cell_type": "code",
   "execution_count": 38,
   "metadata": {},
   "outputs": [
    {
     "data": {
      "text/plain": [
       "['city_id', 'city', 'country_id', 'last_update', 'ohoh']"
      ]
     },
     "execution_count": 38,
     "metadata": {},
     "output_type": "execute_result"
    }
   ],
   "source": [
    "[x for x in df.columns if x != 'ingest_date']"
   ]
  },
  {
   "cell_type": "code",
   "execution_count": 14,
   "metadata": {},
   "outputs": [
    {
     "name": "stdout",
     "output_type": "stream",
     "text": [
      "2018-10-19 08:05:20,230 - INFO - 52e0f2d - datalabframework-demos.git - jovyan - ingest.ipynb - engine.write - {'format': 'parquet', 'service': 'hdfs', 'path': 'test', 'url': 'hdfs://hdfs-nn:8020/data/ingest/test'}\n",
      "None\n",
      "2018-10-19 08:05:20,456 - INFO - 52e0f2d - datalabframework-demos.git - jovyan - ingest.ipynb - engine.read - {'format': 'parquet', 'service': 'hdfs', 'path': 'test', 'url': 'hdfs://hdfs-nn:8020/data/ingest/test'}\n",
      "+-------+-----------------+----------+-------------------+----+\n",
      "|city_id|             city|country_id|        last_update|ohoh|\n",
      "+-------+-----------------+----------+-------------------+----+\n",
      "|    144|   Dhule (Dhulia)|        44|2006-02-15 04:45:25|  42|\n",
      "|    442|      Saint-Denis|        79|2006-02-15 04:45:25|  42|\n",
      "|    179|         Gatineau|        20|2006-02-15 04:45:25|  42|\n",
      "|    560|            Vaduz|        55|2006-02-15 04:45:25|  42|\n",
      "|    189|           Guaruj|        15|2006-02-15 04:45:25|  42|\n",
      "|      2|             Abha|        82|2006-02-15 04:45:25|  42|\n",
      "|    462|            Sanya|        23|2006-02-15 04:45:25|  42|\n",
      "|    317|          Luzinia|        15|2006-02-15 04:45:25|  42|\n",
      "|    502|           Suihua|        23|2006-02-15 04:45:25|  42|\n",
      "|    270|   Kirovo-Tepetsk|        80|2006-02-15 04:45:25|  42|\n",
      "|    559|Uttarpara-Kotrung|        44|2006-02-15 04:45:25|  42|\n",
      "|    599|         Zhoushan|        23|2006-02-15 04:45:25|  42|\n",
      "|     62|          Bayugan|        75|2006-02-15 04:45:25|  42|\n",
      "|    138|            Davao|        75|2006-02-15 04:45:25|  42|\n",
      "|    193|          Haining|        23|2006-02-15 04:45:25|  42|\n",
      "|    506|             Sumy|       100|2006-02-15 04:45:25|  42|\n",
      "|    447|         Salzburg|         9|2006-02-15 04:45:25|  42|\n",
      "|    331|           Matsue|        50|2006-02-15 04:45:25|  42|\n",
      "|    229|        Izumisano|        50|2006-02-15 04:45:25|  42|\n",
      "|     40|          Atlixco|        60|2006-02-15 04:45:25|  42|\n",
      "+-------+-----------------+----------+-------------------+----+\n",
      "only showing top 20 rows\n",
      "\n"
     ]
    }
   ],
   "source": [
    "import pyspark.sql.functions as F\n",
    "df = df.withColumn('ohoh', F.lit(42))\n",
    "df = df.drop('ingest_date')\n",
    "\n",
    "engine.write(df, path='test', provider='target', mode='overwrite')\n",
    "engine.read(path='test', provider='target').show()"
   ]
  },
  {
   "cell_type": "code",
   "execution_count": 15,
   "metadata": {},
   "outputs": [
    {
     "name": "stdout",
     "output_type": "stream",
     "text": [
      "None\n",
      "2018-10-19 08:05:34,120 - INFO - 52e0f2d - datalabframework-demos.git - jovyan - ingest.ipynb - engine.read - {'format': 'parquet', 'service': 'hdfs', 'path': 'test', 'url': 'hdfs://hdfs-nn:8020/data/ingest/test'}\n",
      "None\n",
      "2018-10-19 08:05:34,348 - INFO - 52e0f2d - datalabframework-demos.git - jovyan - ingest.ipynb - engine.read - {'format': 'parquet', 'service': 'hdfs', 'path': 'new2.city/schema', 'url': 'hdfs://hdfs-nn:8020/data/ingest/new2.city/schema'}\n",
      "None\n",
      "2018-10-19 08:05:34,684 - INFO - 52e0f2d - datalabframework-demos.git - jovyan - ingest.ipynb - engine.read - {'format': 'parquet', 'service': 'hdfs', 'path': 'new2.city/2018-10-19T080431', 'url': 'hdfs://hdfs-nn:8020/data/ingest/new2.city/2018-10-19T080431'}\n",
      "{\"fields\":[{\"metadata\":{},\"name\":\"city_id\",\"nullable\":true,\"type\":\"integer\"},{\"metadata\":{},\"name\":\"city\",\"nullable\":true,\"type\":\"string\"},{\"metadata\":{},\"name\":\"country_id\",\"nullable\":true,\"type\":\"integer\"},{\"metadata\":{},\"name\":\"last_update\",\"nullable\":true,\"type\":\"timestamp\"},{\"metadata\":{},\"name\":\"ohoh\",\"nullable\":true,\"type\":\"integer\"}],\"type\":\"struct\"}\n",
      "{\"fields\":[{\"metadata\":{},\"name\":\"city_id\",\"nullable\":true,\"type\":\"integer\"},{\"metadata\":{},\"name\":\"city\",\"nullable\":true,\"type\":\"string\"},{\"metadata\":{},\"name\":\"country_id\",\"nullable\":true,\"type\":\"integer\"},{\"metadata\":{},\"name\":\"last_update\",\"nullable\":true,\"type\":\"timestamp\"},{\"metadata\":{},\"name\":\"ingest_date\",\"nullable\":true,\"type\":\"string\"}],\"type\":\"struct\"}\n",
      "2018-10-19 08:05:35,177 - INFO - 52e0f2d - datalabframework-demos.git - jovyan - ingest.ipynb - engine.write - {'format': 'parquet', 'service': 'hdfs', 'path': 'new2.city/schema', 'url': 'hdfs://hdfs-nn:8020/data/ingest/new2.city/schema'}\n",
      "2018-10-19 08:05:35,567 - INFO - 52e0f2d - datalabframework-demos.git - jovyan - ingest.ipynb - engine.write - {'format': 'parquet', 'service': 'hdfs', 'path': 'new2.city/2018-10-19T080533', 'url': 'hdfs://hdfs-nn:8020/data/ingest/new2.city/2018-10-19T080533'}\n"
     ]
    }
   ],
   "source": [
    "engine.ingest(src_path='test', src_provider='target', dest_path='new2.city', dest_provider='target')"
   ]
  },
  {
   "cell_type": "markdown",
   "metadata": {},
   "source": [
    "## pre checks\n",
    "\n",
    "schema checks:\n",
    "\n",
    " - get table schema from source\n",
    " - compare with reference schema\n",
    " \n",
    "value checks:\n",
    " - null\n",
    " - invalid "
   ]
  },
  {
   "cell_type": "markdown",
   "metadata": {},
   "source": [
    "## Ingest strategy\n",
    "\n",
    "#### **what to read?**\n",
    " \n",
    "FULL scan:  \n",
    "tables are lost or never ingested before\n",
    " \n",
    "  - cold start\n",
    "  - disaster recovery from source\n",
    "     \n",
    "INCREMENTAL scan:  \n",
    "We need a way to select/filter new data\n",
    "\n",
    "  - time based (default, i.e. last_update column)\n",
    "  - index based (if index is auto incrementing)\n",
    "  - hash compare indexes (expensive)\n",
    "  - full rescan and tag with ingest date\n",
    " \n",
    "#### **where to write?**\n",
    "\n",
    "  - define a naming convention for the target tables (default schema version: `latest`)  \n",
    "    `<source>/<db-name>/<table-name>/<schema-version-date>`\n",
    "    \n",
    "#### **exceptions**\n",
    ": what to do? (show error)"
   ]
  },
  {
   "cell_type": "markdown",
   "metadata": {},
   "source": [
    "### HDFS"
   ]
  },
  {
   "cell_type": "code",
   "execution_count": 5,
   "metadata": {},
   "outputs": [
    {
     "name": "stdout",
     "output_type": "stream",
     "text": [
      "hdfs://hdfs-nn:8020//data/ingest/extract/sakila.actor\n",
      "+--------+----------+------------+-------------------+\n",
      "|actor_id|first_name|   last_name|        last_update|\n",
      "+--------+----------+------------+-------------------+\n",
      "|       1|  PENELOPE|     GUINESS|2006-02-15 04:34:33|\n",
      "|       2|      NICK|    WAHLBERG|2006-02-15 04:34:33|\n",
      "|       3|        ED|       CHASE|2006-02-15 04:34:33|\n",
      "|       4|  JENNIFER|       DAVIS|2006-02-15 04:34:33|\n",
      "|       5|    JOHNNY|LOLLOBRIGIDA|2006-02-15 04:34:33|\n",
      "|       6|     BETTE|   NICHOLSON|2006-02-15 04:34:33|\n",
      "|       7|     GRACE|      MOSTEL|2006-02-15 04:34:33|\n",
      "|       8|   MATTHEW|   JOHANSSON|2006-02-15 04:34:33|\n",
      "|       9|       JOE|       SWANK|2006-02-15 04:34:33|\n",
      "|      10| CHRISTIAN|       GABLE|2006-02-15 04:34:33|\n",
      "|      11|      ZERO|        CAGE|2006-02-15 04:34:33|\n",
      "|      12|      KARL|       BERRY|2006-02-15 04:34:33|\n",
      "|      13|       UMA|        WOOD|2006-02-15 04:34:33|\n",
      "|      14|    VIVIEN|      BERGEN|2006-02-15 04:34:33|\n",
      "|      15|      CUBA|     OLIVIER|2006-02-15 04:34:33|\n",
      "|      16|      FRED|     COSTNER|2006-02-15 04:34:33|\n",
      "|      17|     HELEN|      VOIGHT|2006-02-15 04:34:33|\n",
      "|      18|       DAN|        TORN|2006-02-15 04:34:33|\n",
      "|      19|       BOB|     FAWCETT|2006-02-15 04:34:33|\n",
      "|      20|   LUCILLE|       TRACY|2006-02-15 04:34:33|\n",
      "+--------+----------+------------+-------------------+\n",
      "only showing top 20 rows\n",
      "\n"
     ]
    }
   ],
   "source": [
    "# read back from hdfs in parquet format\n",
    "df_trg = engine.read('target', 'ingest')\n",
    "df_trg.where(col(colname) => 'datetime')\n",
    "df_trg.show()"
   ]
  },
  {
   "cell_type": "markdown",
   "metadata": {},
   "source": [
    "## post checks"
   ]
  },
  {
   "cell_type": "code",
   "execution_count": 6,
   "metadata": {},
   "outputs": [],
   "source": [
    "assert(df_src.subtract(df_trg).count()==0)"
   ]
  },
  {
   "cell_type": "code",
   "execution_count": null,
   "metadata": {},
   "outputs": [],
   "source": [
    "engine.read(path='abcd', provider='dsds')\n",
    "write(df, path='abcd', provider='ingest')\n",
    "\n",
    "engine.read('resource_alias')\n",
    "engine.write(df, 'resource_alias')\n"
   ]
  }
 ],
 "metadata": {
  "kernelspec": {
   "display_name": "Python 3",
   "language": "python",
   "name": "python3"
  },
  "language_info": {
   "codemirror_mode": {
    "name": "ipython",
    "version": 3
   },
   "file_extension": ".py",
   "mimetype": "text/x-python",
   "name": "python",
   "nbconvert_exporter": "python",
   "pygments_lexer": "ipython3",
   "version": "3.6.3"
  }
 },
 "nbformat": 4,
 "nbformat_minor": 2
}
